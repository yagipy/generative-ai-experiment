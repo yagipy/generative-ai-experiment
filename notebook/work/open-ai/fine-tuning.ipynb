{
 "cells": [
  {
   "cell_type": "markdown",
   "id": "3c592274-fb88-449f-ab6f-3f568e0ce521",
   "metadata": {},
   "source": [
    "## OpenAI Fine Tuning\n",
    "- https://platform.openai.com/docs/guides/fine-tuning\n",
    "- https://platform.openai.com/docs/api-reference/fine-tuning"
   ]
  },
  {
   "cell_type": "markdown",
   "id": "5d06bb47-69b8-4879-a46c-c65a149e2710",
   "metadata": {},
   "source": [
    "セットアップ"
   ]
  },
  {
   "cell_type": "code",
   "execution_count": 7,
   "id": "a06eb0b2-066c-4720-aaef-38a7316141dd",
   "metadata": {},
   "outputs": [
    {
     "name": "stdout",
     "output_type": "stream",
     "text": [
      "Requirement already satisfied: openai in /opt/conda/lib/python3.11/site-packages (1.12.0)\n",
      "Requirement already satisfied: anyio<5,>=3.5.0 in /opt/conda/lib/python3.11/site-packages (from openai) (4.0.0)\n",
      "Requirement already satisfied: distro<2,>=1.7.0 in /opt/conda/lib/python3.11/site-packages (from openai) (1.9.0)\n",
      "Requirement already satisfied: httpx<1,>=0.23.0 in /opt/conda/lib/python3.11/site-packages (from openai) (0.26.0)\n",
      "Requirement already satisfied: pydantic<3,>=1.9.0 in /opt/conda/lib/python3.11/site-packages (from openai) (2.6.1)\n",
      "Requirement already satisfied: sniffio in /opt/conda/lib/python3.11/site-packages (from openai) (1.3.0)\n",
      "Requirement already satisfied: tqdm>4 in /opt/conda/lib/python3.11/site-packages (from openai) (4.66.1)\n",
      "Requirement already satisfied: typing-extensions<5,>=4.7 in /opt/conda/lib/python3.11/site-packages (from openai) (4.8.0)\n",
      "Requirement already satisfied: idna>=2.8 in /opt/conda/lib/python3.11/site-packages (from anyio<5,>=3.5.0->openai) (3.4)\n",
      "Requirement already satisfied: certifi in /opt/conda/lib/python3.11/site-packages (from httpx<1,>=0.23.0->openai) (2023.7.22)\n",
      "Requirement already satisfied: httpcore==1.* in /opt/conda/lib/python3.11/site-packages (from httpx<1,>=0.23.0->openai) (1.0.2)\n",
      "Requirement already satisfied: h11<0.15,>=0.13 in /opt/conda/lib/python3.11/site-packages (from httpcore==1.*->httpx<1,>=0.23.0->openai) (0.14.0)\n",
      "Requirement already satisfied: annotated-types>=0.4.0 in /opt/conda/lib/python3.11/site-packages (from pydantic<3,>=1.9.0->openai) (0.6.0)\n",
      "Requirement already satisfied: pydantic-core==2.16.2 in /opt/conda/lib/python3.11/site-packages (from pydantic<3,>=1.9.0->openai) (2.16.2)\n"
     ]
    }
   ],
   "source": [
    "!pip install openai\n",
    "import os"
   ]
  },
  {
   "cell_type": "markdown",
   "id": "94a8119b-4fc9-4510-af38-97add4d28827",
   "metadata": {},
   "source": [
    "google colab用"
   ]
  },
  {
   "cell_type": "code",
   "execution_count": null,
   "id": "2cd5b346-8565-4fcd-a0bf-b2e53fb04386",
   "metadata": {},
   "outputs": [],
   "source": [
    "from google.colab import userdata\n",
    "os.environ[\"OPENAI_API_KEY\"] = userdata.get(\"OPENAI_API_KEY\")"
   ]
  },
  {
   "cell_type": "markdown",
   "id": "35889beb-21db-4d5b-b90c-8e98b518ab15",
   "metadata": {},
   "source": [
    "前準備"
   ]
  },
  {
   "cell_type": "code",
   "execution_count": 8,
   "id": "615a8ac9-d865-4a1f-9a18-8207addd2eb4",
   "metadata": {},
   "outputs": [],
   "source": [
    "from openai import OpenAI\n",
    "client = OpenAI()"
   ]
  },
  {
   "cell_type": "markdown",
   "id": "e374e539-f295-48ec-8fa7-23cbed8620c9",
   "metadata": {},
   "source": [
    "学習用ファイルのアップロードとファインチューンジョブの作成"
   ]
  },
  {
   "cell_type": "code",
   "execution_count": null,
   "id": "7b8968a9-e3c9-4f92-83ed-b74f584535ba",
   "metadata": {},
   "outputs": [],
   "source": [
    "# data.jsonl\n",
    "\n",
    "{\"messages\": [ {\"role\": \"user\", \"content\": \"M-1グランプリ2023の優勝者は誰？\"}, {\"role\": \"assistant\", \"content\": \"令和ロマンです。\"}]}\n",
    "{\"messages\": [ {\"role\": \"user\", \"content\": \"M-1グランプリ2023の優勝者は誰？\"}, {\"role\": \"assistant\", \"content\": \"令和ロマンです。\"}]}\n",
    "{\"messages\": [ {\"role\": \"user\", \"content\": \"M-1グランプリ2023の優勝者は誰？\"}, {\"role\": \"assistant\", \"content\": \"令和ロマンです。\"}]}\n",
    "{\"messages\": [ {\"role\": \"user\", \"content\": \"M-1グランプリ2023の優勝者は誰？\"}, {\"role\": \"assistant\", \"content\": \"令和ロマンです。\"}]}\n",
    "{\"messages\": [ {\"role\": \"user\", \"content\": \"M-1グランプリ2023の優勝者は誰？\"}, {\"role\": \"assistant\", \"content\": \"令和ロマンです。\"}]}\n",
    "{\"messages\": [ {\"role\": \"user\", \"content\": \"M-1グランプリ2023の優勝者は誰？\"}, {\"role\": \"assistant\", \"content\": \"令和ロマンです。\"}]}\n",
    "{\"messages\": [ {\"role\": \"user\", \"content\": \"M-1グランプリ2023の優勝者は誰？\"}, {\"role\": \"assistant\", \"content\": \"令和ロマンです。\"}]}\n",
    "{\"messages\": [ {\"role\": \"user\", \"content\": \"M-1グランプリ2023の優勝者は誰？\"}, {\"role\": \"assistant\", \"content\": \"令和ロマンです。\"}]}\n",
    "{\"messages\": [ {\"role\": \"user\", \"content\": \"M-1グランプリ2023の優勝者は誰？\"}, {\"role\": \"assistant\", \"content\": \"令和ロマンです。\"}]}\n",
    "{\"messages\": [ {\"role\": \"user\", \"content\": \"M-1グランプリ2023の優勝者は誰？\"}, {\"role\": \"assistant\", \"content\": \"令和ロマンです。\"}]}"
   ]
  },
  {
   "cell_type": "code",
   "execution_count": 10,
   "id": "fe136b87-5d30-4217-9da1-3d7f6b154aab",
   "metadata": {},
   "outputs": [
    {
     "data": {
      "text/plain": [
       "FineTuningJob(id='ftjob-aDbVnhMORAHvZZqM2wK75FPs', created_at=1707610853, error=Error(code=None, message=None, param=None, error=None), fine_tuned_model=None, finished_at=None, hyperparameters=Hyperparameters(n_epochs=5, batch_size='auto', learning_rate_multiplier='auto'), model='gpt-3.5-turbo-0613', object='fine_tuning.job', organization_id='org-aNLg5vqO8HQgDQR7iM0YXujd', result_files=[], status='validating_files', trained_tokens=None, training_file='file-HvDPpsidqxFl3SzaEDULKQ9P', validation_file=None)"
      ]
     },
     "execution_count": 10,
     "metadata": {},
     "output_type": "execute_result"
    }
   ],
   "source": [
    "file = client.files.create(\n",
    "  file=open(\"data.jsonl\", \"rb\"),\n",
    "  purpose=\"fine-tune\"\n",
    ")\n",
    "fine_tune_job = client.fine_tuning.jobs.create(\n",
    "  training_file=file.id,\n",
    "  model=\"gpt-3.5-turbo\",\n",
    "  hyperparameters={\n",
    "    \"n_epochs\": 5\n",
    "  }\n",
    ")\n",
    "fine_tune_job"
   ]
  },
  {
   "cell_type": "markdown",
   "id": "ee55754c-dd21-48f1-9299-c8642fd0ed18",
   "metadata": {},
   "source": [
    "ジョブの進行状況の確認"
   ]
  },
  {
   "cell_type": "code",
   "execution_count": 16,
   "id": "5f9bde9e-56c6-464b-ba13-c22486c97e96",
   "metadata": {},
   "outputs": [
    {
     "data": {
      "text/plain": [
       "FineTuningJob(id='ftjob-aDbVnhMORAHvZZqM2wK75FPs', created_at=1707610853, error=Error(code=None, message=None, param=None, error=None), fine_tuned_model='ft:gpt-3.5-turbo-0613:personal::8qrxDHkE', finished_at=1707611146, hyperparameters=Hyperparameters(n_epochs=5, batch_size=1, learning_rate_multiplier=2), model='gpt-3.5-turbo-0613', object='fine_tuning.job', organization_id='org-aNLg5vqO8HQgDQR7iM0YXujd', result_files=['file-vVqLEnOzSApr4Iy03inE6oZg'], status='succeeded', trained_tokens=1850, training_file='file-HvDPpsidqxFl3SzaEDULKQ9P', validation_file=None)"
      ]
     },
     "execution_count": 16,
     "metadata": {},
     "output_type": "execute_result"
    }
   ],
   "source": [
    "client.fine_tuning.jobs.retrieve(fine_tune_job.id)"
   ]
  },
  {
   "cell_type": "markdown",
   "id": "ff08a7c9-4207-4ddf-9220-be1a4da63605",
   "metadata": {},
   "source": [
    "学習前モデル"
   ]
  },
  {
   "cell_type": "code",
   "execution_count": 15,
   "id": "49bd5cdf-bd80-4070-b861-3dab0d5c9cc2",
   "metadata": {},
   "outputs": [
    {
     "data": {
      "text/plain": [
       "'申し訳ありませんが、私はM-1グランプリ2023の優勝者を予測することはできません。詳細な情報がまだ公開されていないため、どのお笑いコンビが優勝するかはわかりません。情報をお持ちの他の方にお問い合わせいただくか、公式の発表をお待ちください。'"
      ]
     },
     "execution_count": 15,
     "metadata": {},
     "output_type": "execute_result"
    }
   ],
   "source": [
    "response = client.chat.completions.create(\n",
    "    model = \"gpt-3.5-turbo\",\n",
    "    messages = [{\"role\":\"user\", \"content\":\"M-1グランプリ2023の優勝者は誰？\"}]\n",
    ")\n",
    "response.choices[0].message.content"
   ]
  },
  {
   "cell_type": "markdown",
   "id": "cfc50359-8286-4821-a022-fc0fbaf02ce7",
   "metadata": {},
   "source": [
    "学習後モデル"
   ]
  },
  {
   "cell_type": "code",
   "execution_count": 19,
   "id": "348b8159-996a-4392-9ab4-77c680079f29",
   "metadata": {},
   "outputs": [
    {
     "data": {
      "text/plain": [
       "'令和ロマンです。'"
      ]
     },
     "execution_count": 19,
     "metadata": {},
     "output_type": "execute_result"
    }
   ],
   "source": [
    "response = client.chat.completions.create(\n",
    "    model = \"ft:gpt-3.5-turbo-0613:personal::8qrxDHkE\",\n",
    "    messages = [{\"role\":\"user\", \"content\":\"M-1グランプリ2023の優勝者は誰？\"}]\n",
    ")\n",
    "response.choices[0].message.content"
   ]
  }
 ],
 "metadata": {
  "kernelspec": {
   "display_name": "Python 3 (ipykernel)",
   "language": "python",
   "name": "python3"
  },
  "language_info": {
   "codemirror_mode": {
    "name": "ipython",
    "version": 3
   },
   "file_extension": ".py",
   "mimetype": "text/x-python",
   "name": "python",
   "nbconvert_exporter": "python",
   "pygments_lexer": "ipython3",
   "version": "3.11.6"
  }
 },
 "nbformat": 4,
 "nbformat_minor": 5
}
