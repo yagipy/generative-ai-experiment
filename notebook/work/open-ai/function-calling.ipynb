{
 "cells": [
  {
   "cell_type": "markdown",
   "id": "99b5e34c-e9ec-4e5b-93e8-abb9d3ec5d2a",
   "metadata": {},
   "source": [
    "## OpenAI Function Calling\n",
    "- 利用可能な関数をLLMに渡して、LLMに「関数を使いたいかどうか」判断をさせる機能\n",
    "  - LLMが関数を実行するわけではなく、LLMは「関数を使いたいかどうか」を返してくるだけ\n",
    "- \n",
    "- https://platform.openai.com/docs/guides/function-calling"
   ]
  },
  {
   "cell_type": "markdown",
   "id": "c80eb65a-4098-405a-b0c7-4a336a84f7fd",
   "metadata": {},
   "source": [
    "セットアップ"
   ]
  },
  {
   "cell_type": "code",
   "execution_count": 2,
   "id": "30d60ddd-5d1a-4c08-a7c1-d674c3cb4889",
   "metadata": {},
   "outputs": [
    {
     "name": "stdout",
     "output_type": "stream",
     "text": [
      "Requirement already satisfied: openai in /opt/conda/lib/python3.11/site-packages (1.12.0)\n",
      "Requirement already satisfied: anyio<5,>=3.5.0 in /opt/conda/lib/python3.11/site-packages (from openai) (4.0.0)\n",
      "Requirement already satisfied: distro<2,>=1.7.0 in /opt/conda/lib/python3.11/site-packages (from openai) (1.9.0)\n",
      "Requirement already satisfied: httpx<1,>=0.23.0 in /opt/conda/lib/python3.11/site-packages (from openai) (0.26.0)\n",
      "Requirement already satisfied: pydantic<3,>=1.9.0 in /opt/conda/lib/python3.11/site-packages (from openai) (2.6.1)\n",
      "Requirement already satisfied: sniffio in /opt/conda/lib/python3.11/site-packages (from openai) (1.3.0)\n",
      "Requirement already satisfied: tqdm>4 in /opt/conda/lib/python3.11/site-packages (from openai) (4.66.1)\n",
      "Requirement already satisfied: typing-extensions<5,>=4.7 in /opt/conda/lib/python3.11/site-packages (from openai) (4.8.0)\n",
      "Requirement already satisfied: idna>=2.8 in /opt/conda/lib/python3.11/site-packages (from anyio<5,>=3.5.0->openai) (3.4)\n",
      "Requirement already satisfied: certifi in /opt/conda/lib/python3.11/site-packages (from httpx<1,>=0.23.0->openai) (2023.7.22)\n",
      "Requirement already satisfied: httpcore==1.* in /opt/conda/lib/python3.11/site-packages (from httpx<1,>=0.23.0->openai) (1.0.2)\n",
      "Requirement already satisfied: h11<0.15,>=0.13 in /opt/conda/lib/python3.11/site-packages (from httpcore==1.*->httpx<1,>=0.23.0->openai) (0.14.0)\n",
      "Requirement already satisfied: annotated-types>=0.4.0 in /opt/conda/lib/python3.11/site-packages (from pydantic<3,>=1.9.0->openai) (0.6.0)\n",
      "Requirement already satisfied: pydantic-core==2.16.2 in /opt/conda/lib/python3.11/site-packages (from pydantic<3,>=1.9.0->openai) (2.16.2)\n"
     ]
    }
   ],
   "source": [
    "!pip install openai"
   ]
  },
  {
   "cell_type": "markdown",
   "id": "4774353e-1f64-441c-b5ed-360c8b6e1b77",
   "metadata": {},
   "source": [
    "google colab用"
   ]
  },
  {
   "cell_type": "code",
   "execution_count": null,
   "id": "0c7580ad-c3f4-408b-b61c-f4f8000e9a86",
   "metadata": {},
   "outputs": [],
   "source": [
    "from google.colab import userdata\n",
    "os.environ[\"OPENAI_API_KEY\"] = userdata.get(\"OPENAI_API_KEY\")"
   ]
  },
  {
   "cell_type": "markdown",
   "id": "055f756e-6fdf-4811-9934-077a0d496096",
   "metadata": {},
   "source": [
    "前準備"
   ]
  },
  {
   "cell_type": "code",
   "execution_count": 9,
   "id": "773881b1-651b-4a3e-8dcc-a762af0a02fa",
   "metadata": {},
   "outputs": [],
   "source": [
    "from openai import OpenAI\n",
    "import datetime\n",
    "import json\n",
    "client = OpenAI()"
   ]
  },
  {
   "cell_type": "markdown",
   "id": "9a19cfa9-3b03-4579-9c59-963d7318d42e",
   "metadata": {},
   "source": [
    "Function Calling未対応"
   ]
  },
  {
   "cell_type": "code",
   "execution_count": 24,
   "id": "8c68657f-4fbb-4769-8112-e3b7379ae021",
   "metadata": {},
   "outputs": [
    {
     "data": {
      "text/plain": [
       "'ごめんなさい、現在の天気情報は提供できません。最新の天気情報はインターネットや天気アプリをご確認ください。'"
      ]
     },
     "execution_count": 24,
     "metadata": {},
     "output_type": "execute_result"
    }
   ],
   "source": [
    "response = client.chat.completions.create(\n",
    "    model=\"gpt-3.5-turbo-0125\",\n",
    "    messages=[{\"role\": \"user\", \"content\": \"東京の天気は？\"}]\n",
    "  )\n",
    "response.choices[0].message.content"
   ]
  },
  {
   "cell_type": "markdown",
   "id": "da3370eb-aa01-4f48-b04d-77d9f2d4a47f",
   "metadata": {},
   "source": [
    "Function Calling対応"
   ]
  },
  {
   "cell_type": "code",
   "execution_count": 27,
   "id": "cbbdc27f-7b5f-49f1-adad-e9d4cc279a42",
   "metadata": {},
   "outputs": [
    {
     "name": "stdout",
     "output_type": "stream",
     "text": [
      "東京の現在の天気は10度です。\n"
     ]
    }
   ],
   "source": [
    "def get_current_weather(location, unit=\"fahrenheit\"):\n",
    "    \"\"\"Get the current weather in a given location\"\"\"\n",
    "    if \"tokyo\" in location.lower():\n",
    "        return json.dumps({\"location\": \"Tokyo\", \"temperature\": \"10\", \"unit\": unit})\n",
    "    elif \"san francisco\" in location.lower():\n",
    "        return json.dumps({\"location\": \"San Francisco\", \"temperature\": \"72\", \"unit\": unit})\n",
    "    elif \"paris\" in location.lower():\n",
    "        return json.dumps({\"location\": \"Paris\", \"temperature\": \"22\", \"unit\": unit})\n",
    "    else:\n",
    "        return json.dumps({\"location\": location, \"temperature\": \"unknown\"})\n",
    "\n",
    "messages = [{\"role\": \"user\", \"content\": \"東京の天気は？\"}]\n",
    "tools = [\n",
    "    {\n",
    "        \"type\": \"function\",\n",
    "        \"function\": {\n",
    "            \"name\": \"get_current_weather\",\n",
    "            \"description\": \"Get the current weather in a given location\",\n",
    "            \"parameters\": {\n",
    "                \"type\": \"object\",\n",
    "                \"properties\": {\n",
    "                    \"location\": {\n",
    "                        \"type\": \"string\",\n",
    "                        \"description\": \"The city and state, e.g. San Francisco, CA\",\n",
    "                    },\n",
    "                    \"unit\": {\"type\": \"string\", \"enum\": [\"celsius\", \"fahrenheit\"]},\n",
    "                },\n",
    "                \"required\": [\"location\"],\n",
    "            },\n",
    "        },\n",
    "    }\n",
    "]\n",
    "response = client.chat.completions.create(\n",
    "    model=\"gpt-3.5-turbo\",\n",
    "    messages=messages,\n",
    "    tools=tools, # toolsに利用可能な関数を渡す\n",
    "    # tool_choiceは\n",
    "    tool_choice=\"auto\", \n",
    "    # tool_choice = {\"type\": \"function\", \"function\": {\"name\": \"get_current_weather\"}},\n",
    ")\n",
    "\n",
    "response_message = response.choices[0].message\n",
    "tool_calls = response_message.tool_calls\n",
    "\n",
    "if tool_calls:\n",
    "    available_functions = {\n",
    "        \"get_current_weather\": get_current_weather,\n",
    "    }\n",
    "    messages.append(response_message) # responseをmessageに入れておく(後でChatCompletionする時に必要)\n",
    "\n",
    "    # responseのtool_calls内にLLMが使用したいと判断した関数とその引数が入っている\n",
    "    for tool_call in tool_calls:\n",
    "        # 対象の関数名を関数にマッピング\n",
    "        function_name = tool_call.function.name\n",
    "        function_to_call = available_functions[function_name]\n",
    "        \n",
    "        # 引数を取得\n",
    "        function_args = json.loads(tool_call.function.arguments)\n",
    "\n",
    "        # 関数呼び出し\n",
    "        function_response = function_to_call(\n",
    "            location=function_args.get(\"location\"),\n",
    "            unit=function_args.get(\"unit\"),\n",
    "        )\n",
    "\n",
    "        # 関数の結果をmessageに入れる\n",
    "        messages.append(\n",
    "            {\n",
    "                \"tool_call_id\": tool_call.id,\n",
    "                \"role\": \"tool\",\n",
    "                \"name\": function_name,\n",
    "                \"content\": function_response,\n",
    "            }\n",
    "        )\n",
    "\n",
    "    # responseと関数の結果をappendしたmessageで再度リクエスト\n",
    "    second_response = client.chat.completions.create(\n",
    "        model=\"gpt-3.5-turbo\",\n",
    "        messages=messages,\n",
    "    )\n",
    "    print(second_response.choices[0].message.content)"
   ]
  }
 ],
 "metadata": {
  "kernelspec": {
   "display_name": "Python 3 (ipykernel)",
   "language": "python",
   "name": "python3"
  },
  "language_info": {
   "codemirror_mode": {
    "name": "ipython",
    "version": 3
   },
   "file_extension": ".py",
   "mimetype": "text/x-python",
   "name": "python",
   "nbconvert_exporter": "python",
   "pygments_lexer": "ipython3",
   "version": "3.11.6"
  }
 },
 "nbformat": 4,
 "nbformat_minor": 5
}
