{
 "cells": [
  {
   "cell_type": "markdown",
   "id": "3ff6c689d64645d8",
   "metadata": {
    "collapsed": false,
    "jupyter": {
     "outputs_hidden": false
    }
   },
   "source": [
    "## [SerpApi](https://serpapi.com)\n",
    "- Google検索をAPI経由で行えるサービス\n",
    "- https://serpapi.com/search-api"
   ]
  },
  {
   "cell_type": "markdown",
   "id": "f319b135-2547-4f7e-9fca-ca9509594c0b",
   "metadata": {},
   "source": [
    "セットアップ"
   ]
  },
  {
   "cell_type": "code",
   "execution_count": 2,
   "id": "initial_id",
   "metadata": {
    "is_executing": true
   },
   "outputs": [
    {
     "name": "stdout",
     "output_type": "stream",
     "text": [
      "Collecting google-search-results\n",
      "  Downloading google_search_results-2.4.2.tar.gz (18 kB)\n",
      "  Preparing metadata (setup.py) ... \u001b[?25ldone\n",
      "\u001b[?25hRequirement already satisfied: requests in /opt/conda/lib/python3.11/site-packages (from google-search-results) (2.31.0)\n",
      "Requirement already satisfied: charset-normalizer<4,>=2 in /opt/conda/lib/python3.11/site-packages (from requests->google-search-results) (3.3.0)\n",
      "Requirement already satisfied: idna<4,>=2.5 in /opt/conda/lib/python3.11/site-packages (from requests->google-search-results) (3.4)\n",
      "Requirement already satisfied: urllib3<3,>=1.21.1 in /opt/conda/lib/python3.11/site-packages (from requests->google-search-results) (2.0.7)\n",
      "Requirement already satisfied: certifi>=2017.4.17 in /opt/conda/lib/python3.11/site-packages (from requests->google-search-results) (2023.7.22)\n",
      "Building wheels for collected packages: google-search-results\n",
      "  Building wheel for google-search-results (setup.py) ... \u001b[?25ldone\n",
      "\u001b[?25h  Created wheel for google-search-results: filename=google_search_results-2.4.2-py3-none-any.whl size=32003 sha256=90be458b8ecb9ab5924542361de952d9243b4058edbd41d6b9faa540e1281fd5\n",
      "  Stored in directory: /home/jovyan/.cache/pip/wheels/6e/42/3e/aeb691b02cb7175ec70e2da04b5658d4739d2b41e5f73cd06f\n",
      "Successfully built google-search-results\n",
      "Installing collected packages: google-search-results\n",
      "Successfully installed google-search-results-2.4.2\n"
     ]
    }
   ],
   "source": [
    "!pip install google-search-results\n",
    "import os"
   ]
  },
  {
   "cell_type": "markdown",
   "id": "a5b9963f-baf1-492d-a612-f48cda300c61",
   "metadata": {},
   "source": [
    "google colabo用"
   ]
  },
  {
   "cell_type": "code",
   "execution_count": null,
   "id": "1d5aa666-6873-46b1-a313-e67275b21747",
   "metadata": {},
   "outputs": [],
   "source": [
    "from google.colab import userdata\n",
    "os.environ[\"SERP_API_KEY\"] = userdata.get(\"SERP_API_KEY\")"
   ]
  },
  {
   "cell_type": "markdown",
   "id": "c322074b-e140-41b8-aabe-4731bfc1cfa6",
   "metadata": {},
   "source": [
    "検索"
   ]
  },
  {
   "cell_type": "code",
   "execution_count": 3,
   "id": "7bc54676-d723-4085-b96f-85867f88efdc",
   "metadata": {},
   "outputs": [
    {
     "data": {
      "text/plain": [
       "[{'position': 1,\n",
       "  'title': 'TPPの動き（2023年）｜TPP等政府対策本部',\n",
       "  'link': 'https://www.cas.go.jp/jp/tpp/tppinfo/2023/index.html',\n",
       "  'redirect_link': 'https://www.google.co.jp/url?sa=t&source=web&rct=j&opi=89978449&url=https://www.cas.go.jp/jp/tpp/tppinfo/2023/index.html&ved=2ahUKEwjwnqWQ-KGEAxUDmWoFHaOdCIw4ChAWegQIDRAB',\n",
       "  'displayed_link': 'https://www.cas.go.jp › tpp › tppinfo › 2023',\n",
       "  'snippet': 'スナク首相は、日英ビジネス関係者を集めたレセプションのスピーチの中で、英国のCPTPP加入に向けた日本及び後藤大臣の尽力に謝意を表しました。 ... 2023年4月14日. 「 ...',\n",
       "  'snippet_highlighted_words': ['首相', '日本', '2023年4月'],\n",
       "  'source': '内閣官房'},\n",
       " {'position': 2,\n",
       "  'title': '国会のひみつをさぐろう！：キッズページ',\n",
       "  'link': 'https://www.sangiin.go.jp/japanese/kids/html/himitsu/index.html',\n",
       "  'redirect_link': 'https://www.google.co.jp/url?sa=t&source=web&rct=j&opi=89978449&url=https://www.sangiin.go.jp/japanese/kids/html/himitsu/index.html&ved=2ahUKEwjwnqWQ-KGEAxUDmWoFHaOdCIw4ChAWegQICRAB',\n",
       "  'displayed_link': 'https://www.sangiin.go.jp › kids › html › himitsu',\n",
       "  'snippet': '世界中の国々の国会がすべて二院制なのかな？ A．そうではありません。世界の190か国を対象にした調査では、2023年4月現在、二院制 ...',\n",
       "  'snippet_highlighted_words': ['2023年4月現在'],\n",
       "  'source': '参議院'},\n",
       " {'position': 3,\n",
       "  'title': '国会会議録検索システム',\n",
       "  'link': 'https://kokkai.ndl.go.jp/',\n",
       "  'redirect_link': 'https://www.google.co.jp/url?sa=t&source=web&rct=j&opi=89978449&url=https://kokkai.ndl.go.jp/&ved=2ahUKEwjwnqWQ-KGEAxUDmWoFHaOdCIw4ChAWegQICBAB',\n",
       "  'displayed_link': 'https://kokkai.ndl.go.jp',\n",
       "  'snippet': '法律案・条約承認案件について、その審議経過を含む国会会議録に限定した検索を行えます。日本法令索引からご利用ください。 お知らせ. 2023年5月 ...',\n",
       "  'snippet_highlighted_words': ['日本', '2023年'],\n",
       "  'source': '国会会議録検索システム'},\n",
       " {'position': 4,\n",
       "  'title': '官公庁サイト一覧',\n",
       "  'link': 'https://www.gov-online.go.jp/governmentlinks/',\n",
       "  'redirect_link': 'https://www.google.co.jp/url?sa=t&source=web&rct=j&opi=89978449&url=https://www.gov-online.go.jp/governmentlinks/&ved=2ahUKEwjwnqWQ-KGEAxUDmWoFHaOdCIw4ChAWegQIChAB',\n",
       "  'displayed_link': 'https://www.gov-online.go.jp › governmentlinks',\n",
       "  'favicon': 'https://serpapi.com/searches/65c808630a90c7fb36ad0240/images/32d9b3dcc453f7371807251bf69f1c5a31820d0e08cf5f5d42e9f30c4f32a572.png',\n",
       "  'snippet': '各府省等のサイトにリンクしています。 ※2023年4月1日現在. 内閣. 内閣官房 別 ... 首相官邸 別ウインドウで開きます. あしたの暮らしをわかりやすく 政府広報オンライン.',\n",
       "  'snippet_highlighted_words': ['2023年4月1日現在', '首相'],\n",
       "  'source': '政府広報オンライン'},\n",
       " {'position': 5,\n",
       "  'title': '在中国日本国大使館',\n",
       "  'link': 'https://www.cn.emb-japan.go.jp/index_j.htm',\n",
       "  'redirect_link': 'https://www.google.co.jp/url?sa=t&source=web&rct=j&opi=89978449&url=https://www.cn.emb-japan.go.jp/index_j.htm&ved=2ahUKEwjwnqWQ-KGEAxUDmWoFHaOdCIw4ChAWegQICxAB',\n",
       "  'displayed_link': 'https://www.cn.emb-japan.go.jp › index_j',\n",
       "  'snippet': '金杉憲治大使 着任挨拶（2023年12月19日）. 2 / 17. Previous. Next. 新着情報 一覧へ ... 金杉大使が北京日本倶楽部を訪問（2024年2月4日）; 令和6年2月2日: 韓国釜山広域市 ...',\n",
       "  'snippet_highlighted_words': ['2023年', '日本', '4'],\n",
       "  'source': '日本国驻华大使馆'},\n",
       " {'position': 6,\n",
       "  'title': '概況・基本統計 | ポーランド - 欧州 - 国・地域別に見る',\n",
       "  'link': 'https://www.jetro.go.jp/world/europe/pl/basic_01.html',\n",
       "  'redirect_link': 'https://www.google.co.jp/url?sa=t&source=web&rct=j&opi=89978449&url=https://www.jetro.go.jp/world/europe/pl/basic_01.html&ved=2ahUKEwjwnqWQ-KGEAxUDmWoFHaOdCIw4ChAWegQIBxAB',\n",
       "  'displayed_link': 'https://www.jetro.go.jp › world › europe › basic_01',\n",
       "  'favicon': 'https://serpapi.com/searches/65c808630a90c7fb36ad0240/images/32d9b3dcc453f7371807251bf69f1c5ae4a72182bff2631654cc9284196b8883.png',\n",
       "  'date': '2023/07/12',\n",
       "  'snippet': '国・地域名, ポーランド共和国 Republic of Poland. 面積, 32万2,719平方キロメートル（日本の約85％）. 人口, 3,772万人（2023年4月時点、出所： ...',\n",
       "  'snippet_highlighted_words': ['日本', '2023年4月'],\n",
       "  'source': 'ジェトロ（日本貿易振興機構）'},\n",
       " {'position': 7,\n",
       "  'title': 'いま首相にふさわしいのは「小石河」だけど…… 朝日世論調査',\n",
       "  'link': 'https://www.asahi.com/articles/ASRD64VPLRCXUZPS001.html',\n",
       "  'redirect_link': 'https://www.google.co.jp/url?sa=t&source=web&rct=j&opi=89978449&url=https://www.asahi.com/articles/ASRD64VPLRCXUZPS001.html&ved=2ahUKEwjwnqWQ-KGEAxUDmWoFHaOdCIw4ChAWegQIGxAB',\n",
       "  'displayed_link': 'https://www.asahi.com › articles',\n",
       "  'favicon': 'https://serpapi.com/searches/65c808630a90c7fb36ad0240/images/32d9b3dcc453f7371807251bf69f1c5a607e71e4caa1ff6a7e1b30370d23b85a.png',\n",
       "  'date': '2023/12/07',\n",
       "  'snippet': '。岸田文雄内閣の支持率が低迷するなか、朝日新聞社は11月18、19日の全国世論調査（電話）で、岸田首相も含む自民党国会議員7人の名前 ... 2023年12月7日0時 ...',\n",
       "  'snippet_highlighted_words': ['首相', '名前', '2023年'],\n",
       "  'source': '朝日新聞デジタル'},\n",
       " {'position': 8,\n",
       "  'title': '厚生労働大臣',\n",
       "  'link': 'https://www.mhlw.go.jp/kouseiroudoushou/profile/daijin.html',\n",
       "  'redirect_link': 'https://www.google.co.jp/url?sa=t&source=web&rct=j&opi=89978449&url=https://www.mhlw.go.jp/kouseiroudoushou/profile/daijin.html&ved=2ahUKEwjwnqWQ-KGEAxUDmWoFHaOdCIw4ChAWegQIGhAB',\n",
       "  'displayed_link': 'https://www.mhlw.go.jp › profile › daijin',\n",
       "  'favicon': 'https://serpapi.com/searches/65c808630a90c7fb36ad0240/images/32d9b3dcc453f7371807251bf69f1c5aba688614b68964140782cae0f46cfa7e.png',\n",
       "  'snippet': '翻訳前の日本語ページに比べ、画面の表示に若干時間がかかる場合があります。 閉じる. 日本語 English 中文(简体字) 中文(繁體字) 한국어 ... 昭和58年 4月 東海大学政治 ...',\n",
       "  'snippet_highlighted_words': ['日本', '日本', '年 4月'],\n",
       "  'source': '厚生労働省'},\n",
       " {'position': 9,\n",
       "  'title': 'ADEAC（アデアック）：デジタルアーカイブシステム',\n",
       "  'link': 'https://adeac.jp/',\n",
       "  'redirect_link': 'https://www.google.co.jp/url?sa=t&source=web&rct=j&opi=89978449&url=https://adeac.jp/&ved=2ahUKEwjwnqWQ-KGEAxUDmWoFHaOdCIw4ChAWegQIIRAB',\n",
       "  'displayed_link': 'https://adeac.jp',\n",
       "  'favicon': 'https://serpapi.com/searches/65c808630a90c7fb36ad0240/images/32d9b3dcc453f7371807251bf69f1c5a4951fd6dbdf9cf8c656427877827a14c.png',\n",
       "  'snippet': '弊社の年末年始休業期間につきまして(2023年12月29日～2024年1月4日). 2023.12.26 ... 日本ラグビーフットボール協会／日本ラグビー デジタルミュージアムに2023年11月 ...',\n",
       "  'snippet_highlighted_words': ['2023年', '4', '日本', '日本', '2023年'],\n",
       "  'source': 'ADEAC'},\n",
       " {'position': 10,\n",
       "  'title': '北朝鮮による拉致問題とは',\n",
       "  'link': 'https://www.rachi.go.jp/jp/ratimondai/index.html',\n",
       "  'redirect_link': 'https://www.google.co.jp/url?sa=t&source=web&rct=j&opi=89978449&url=https://www.rachi.go.jp/jp/ratimondai/index.html&ved=2ahUKEwjwnqWQ-KGEAxUDmWoFHaOdCIw4ChAWegQIGRAB',\n",
       "  'displayed_link': 'https://www.rachi.go.jp › ratimondai',\n",
       "  'snippet': '... 2023年11月現在）。2023年4月の人権理事会で採択された決議は、拉致被害者及び ... 国連総会において一般討論演説を行う岸田総理（2023年9月）. 拉致問題に関する ...',\n",
       "  'snippet_highlighted_words': ['現在', '2023年4月'],\n",
       "  'source': '北朝鮮による日本人拉致問題'}]"
      ]
     },
     "execution_count": 3,
     "metadata": {},
     "output_type": "execute_result"
    }
   ],
   "source": [
    "from serpapi import GoogleSearch\n",
    "\n",
    "params = {\n",
    "  \"engine\": \"google\",\n",
    "  \"q\": \"2023年4月現在の日本の首相の名前\",\n",
    "  \"location\": \"Tokyo,Japan\",\n",
    "  \"hl\": \"ja\",\n",
    "  \"gl\": \"jp\",\n",
    "  \"google_domain\": \"google.co.jp\",\n",
    "  \"num\": \"10\",\n",
    "  \"start\": \"10\",\n",
    "  \"safe\": \"active\",\n",
    "  \"api_key\": os.environ.get(\"SERP_API_KEY\")\n",
    "}\n",
    "\n",
    "search = GoogleSearch(params)\n",
    "results = search.get_dict()\n",
    "organic_results = results[\"organic_results\"]\n",
    "organic_results"
   ]
  }
 ],
 "metadata": {
  "kernelspec": {
   "display_name": "Python 3 (ipykernel)",
   "language": "python",
   "name": "python3"
  },
  "language_info": {
   "codemirror_mode": {
    "name": "ipython",
    "version": 3
   },
   "file_extension": ".py",
   "mimetype": "text/x-python",
   "name": "python",
   "nbconvert_exporter": "python",
   "pygments_lexer": "ipython3",
   "version": "3.11.6"
  }
 },
 "nbformat": 4,
 "nbformat_minor": 5
}
